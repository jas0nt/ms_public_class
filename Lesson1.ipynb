{
 "cells": [
  {
   "cell_type": "markdown",
   "metadata": {},
   "source": [
    "# 1. 体验本节课最终成果"
   ]
  },
  {
   "cell_type": "code",
   "execution_count": null,
   "metadata": {},
   "outputs": [],
   "source": [
    "import random\n",
    "secret = random.randint(1,101)\n",
    "print('=====开始猜数字游戏=====')\n",
    "while True:\n",
    "    guess = input('1到100之间的整数，猜猜看？')\n",
    "    guess = int(guess)\n",
    "    if secret == guess:\n",
    "        print('猜对啦！你太棒了！')\n",
    "        print('=======游戏结束=======')\n",
    "        break\n",
    "    elif secret > guess:\n",
    "        print('太小了，继续猜...')\n",
    "    else:\n",
    "        print('太大了，继续猜...')"
   ]
  },
  {
   "cell_type": "markdown",
   "metadata": {},
   "source": [
    "# 2. 自己动手开发小游戏"
   ]
  },
  {
   "cell_type": "code",
   "execution_count": null,
   "metadata": {},
   "outputs": [],
   "source": [
    "#跟着老师在这里敲代码\n"
   ]
  },
  {
   "cell_type": "markdown",
   "metadata": {},
   "source": [
    "# 3. 闯关练习"
   ]
  },
  {
   "cell_type": "markdown",
   "metadata": {},
   "source": [
    "## 3.1 Task1 - 打印"
   ]
  },
  {
   "cell_type": "markdown",
   "metadata": {},
   "source": [
    "### T11 下面的程序每个都有点小问题，运行会报错，求你帮我把它们都改对！"
   ]
  },
  {
   "cell_type": "code",
   "execution_count": null,
   "metadata": {},
   "outputs": [],
   "source": [
    "print 'Hello Python'"
   ]
  },
  {
   "cell_type": "code",
   "execution_count": null,
   "metadata": {},
   "outputs": [],
   "source": [
    "print（'Hello Python'）"
   ]
  },
  {
   "cell_type": "code",
   "execution_count": null,
   "metadata": {},
   "outputs": [],
   "source": [
    "print(‘Hello Python’)"
   ]
  },
  {
   "cell_type": "code",
   "execution_count": null,
   "metadata": {},
   "outputs": [],
   "source": [
    "Print('Hello World')"
   ]
  },
  {
   "cell_type": "code",
   "execution_count": null,
   "metadata": {},
   "outputs": [],
   "source": [
    "prInt('Hello Python')"
   ]
  },
  {
   "cell_type": "code",
   "execution_count": null,
   "metadata": {},
   "outputs": [],
   "source": [
    "print(Hello Python)"
   ]
  },
  {
   "cell_type": "code",
   "execution_count": null,
   "metadata": {},
   "outputs": [],
   "source": [
    "print('Hello Python'"
   ]
  },
  {
   "cell_type": "code",
   "execution_count": null,
   "metadata": {},
   "outputs": [],
   "source": [
    "print('Hello Python)"
   ]
  },
  {
   "cell_type": "code",
   "execution_count": null,
   "metadata": {},
   "outputs": [],
   "source": [
    "print('Hello Python\")"
   ]
  },
  {
   "cell_type": "markdown",
   "metadata": {},
   "source": [
    "### T12 自己写代码打印输出：我要学Python"
   ]
  },
  {
   "cell_type": "code",
   "execution_count": null,
   "metadata": {},
   "outputs": [],
   "source": [
    "print()"
   ]
  },
  {
   "cell_type": "markdown",
   "metadata": {},
   "source": [
    "### T13 我最喜欢的两句话，在下面的空白代码框内，帮我用Python程序打出来：\n",
    "> 人生苦短\n",
    "\n",
    "> 我用Python"
   ]
  },
  {
   "cell_type": "code",
   "execution_count": null,
   "metadata": {},
   "outputs": [],
   "source": []
  },
  {
   "cell_type": "markdown",
   "metadata": {},
   "source": [
    "___"
   ]
  },
  {
   "cell_type": "markdown",
   "metadata": {},
   "source": [
    "## Task2 - 生成随机数"
   ]
  },
  {
   "cell_type": "markdown",
   "metadata": {},
   "source": [
    "### T21 下面的程序每个都有点小问题，运行会报错，求你帮我把它们都改对！"
   ]
  },
  {
   "cell_type": "code",
   "execution_count": null,
   "metadata": {},
   "outputs": [],
   "source": [
    "import random\n",
    "a = random.randint(100)"
   ]
  },
  {
   "cell_type": "code",
   "execution_count": null,
   "metadata": {},
   "outputs": [],
   "source": [
    "import random\n",
    "b = random.randint(1，100)"
   ]
  },
  {
   "cell_type": "code",
   "execution_count": null,
   "metadata": {},
   "outputs": [],
   "source": [
    "import random\n",
    "a = randon.randint(1, 100)"
   ]
  },
  {
   "cell_type": "code",
   "execution_count": null,
   "metadata": {},
   "outputs": [],
   "source": [
    "import random\n",
    "a = randint.random(1, 100)"
   ]
  },
  {
   "cell_type": "markdown",
   "metadata": {},
   "source": [
    "### T22 下面的程序不会报错，但不符合要求，求你帮我改对！"
   ]
  },
  {
   "cell_type": "code",
   "execution_count": null,
   "metadata": {},
   "outputs": [],
   "source": [
    "#要求生成一个2到10之间的随机数\n",
    "import random\n",
    "a = random.randint(1, 11)\n",
    "print(a)"
   ]
  },
  {
   "cell_type": "markdown",
   "metadata": {},
   "source": [
    "## Task3 - 输入猜测"
   ]
  },
  {
   "cell_type": "markdown",
   "metadata": {},
   "source": [
    "### T31 下面的程序有几处错误，运行会报错，求你帮我把它们都改对！"
   ]
  },
  {
   "cell_type": "code",
   "execution_count": null,
   "metadata": {},
   "outputs": [],
   "source": [
    "guess = intput('请输入数字5：')\n",
    "guess = (int)guess\n",
    "\n",
    "#下一行代码要求：判断guess是否等于5\n",
    "print(guess = 5)   "
   ]
  },
  {
   "cell_type": "markdown",
   "metadata": {},
   "source": [
    "## Task4 - 判断猜测是否正确"
   ]
  },
  {
   "cell_type": "markdown",
   "metadata": {},
   "source": [
    "### T41 下面的程序有几处错误，运行会报错，求你帮我把它们都改对！"
   ]
  },
  {
   "cell_type": "code",
   "execution_count": null,
   "metadata": {},
   "outputs": [],
   "source": [
    "age = input('请输入你的年龄：')\n",
    "if age < 18\n",
    "    print('成年了！')\n",
    "else\n",
    "    print('未成年')"
   ]
  },
  {
   "cell_type": "markdown",
   "metadata": {},
   "source": [
    "### T42 以下程序判断一个分数属于那个档次：优秀，良好，及格，不及格。程序不会报错，但是逻辑错乱，请把它改对！"
   ]
  },
  {
   "cell_type": "code",
   "execution_count": null,
   "metadata": {},
   "outputs": [],
   "source": [
    "score = input('请输入分数')\n",
    "score = int(score)\n",
    "if score >= 90:\n",
    "    print('及格')\n",
    "elif score > 80:\n",
    "    print('优秀')\n",
    "elif score > 60:\n",
    "    print('良好')\n",
    "else:\n",
    "    print('不及格')"
   ]
  },
  {
   "cell_type": "markdown",
   "metadata": {},
   "source": [
    "## Task5 - 循环接受多次猜测"
   ]
  },
  {
   "cell_type": "markdown",
   "metadata": {},
   "source": [
    "### T51 修改程序：用while循环生成1-100的随机数，直到出现1个大于90的数字为止"
   ]
  },
  {
   "cell_type": "code",
   "execution_count": null,
   "metadata": {},
   "outputs": [],
   "source": [
    "import random\n",
    "num = 0\n",
    "while num < 90:\n",
    "    #生成随机数\n",
    "    \n",
    "    #打印出数字\n"
   ]
  },
  {
   "cell_type": "markdown",
   "metadata": {},
   "source": [
    "### T52 这是一个送分题，运行下面的代码，会打印出Python的核心理念，你认同Python的理念吗？"
   ]
  },
  {
   "cell_type": "code",
   "execution_count": null,
   "metadata": {},
   "outputs": [],
   "source": [
    "import this"
   ]
  }
 ],
 "metadata": {
  "kernelspec": {
   "display_name": "Python 3",
   "language": "python",
   "name": "python3"
  },
  "language_info": {
   "codemirror_mode": {
    "name": "ipython",
    "version": 3
   },
   "file_extension": ".py",
   "mimetype": "text/x-python",
   "name": "python",
   "nbconvert_exporter": "python",
   "pygments_lexer": "ipython3",
   "version": "3.8.3"
  }
 },
 "nbformat": 4,
 "nbformat_minor": 4
}
